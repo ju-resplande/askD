{
 "cells": [
  {
   "cell_type": "code",
   "execution_count": 1,
   "metadata": {},
   "outputs": [],
   "source": [
    "import json"
   ]
  },
  {
   "cell_type": "code",
   "execution_count": 6,
   "metadata": {},
   "outputs": [],
   "source": [
    "with open('data/askd_pt.json') as f:\n",
    "    pt = json.load(f)\n",
    "\n",
    "dataset = dict()\n",
    "dataset['train_pt'] = pt['train_askd']\n",
    "dataset['validation_pt'] = pt['validation_askd']\n",
    "dataset['test_pt'] = pt['test_askd']\n",
    "\n",
    "with open('data/askd_en_augmented.json') as f:\n",
    "    en = json.load(f)\n",
    "\n",
    "dataset['train_en'] = en['train_askd']\n",
    "dataset['validation_en'] = en['validation_askd']\n",
    "dataset['test_en'] = en['test_askd']\n",
    "\n",
    "for split in dataset:\n",
    "    with open(f'data/{split}.json', 'w') as f:\n",
    "        json.dump(dataset[split], f)"
   ]
  },
  {
   "cell_type": "code",
   "execution_count": 21,
   "metadata": {},
   "outputs": [
    {
     "data": {
      "text/plain": [
       "dict_keys(['train_pt', 'validation_pt', 'test_pt', 'train_en', 'validation_en', 'test_en'])"
      ]
     },
     "execution_count": 21,
     "metadata": {},
     "output_type": "execute_result"
    }
   ],
   "source": [
    "dataset.keys()"
   ]
  }
 ],
 "metadata": {
  "interpreter": {
   "hash": "5550a332701dfaf727177dbb42680f614fbec3c4b4c54b659bea7821910aed98"
  },
  "kernelspec": {
   "display_name": "Python 3.9.7 ('base')",
   "language": "python",
   "name": "python3"
  },
  "language_info": {
   "codemirror_mode": {
    "name": "ipython",
    "version": 3
   },
   "file_extension": ".py",
   "mimetype": "text/x-python",
   "name": "python",
   "nbconvert_exporter": "python",
   "pygments_lexer": "ipython3",
   "version": "3.9.7"
  },
  "orig_nbformat": 4
 },
 "nbformat": 4,
 "nbformat_minor": 2
}
