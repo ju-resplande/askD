{
 "cells": [
  {
   "cell_type": "code",
   "execution_count": 1,
   "metadata": {},
   "outputs": [],
   "source": [
    "import json"
   ]
  },
  {
   "cell_type": "code",
   "execution_count": 6,
   "metadata": {},
   "outputs": [],
   "source": [
    "with open('data/askd_pt.json') as f:\n",
    "    pt = json.load(f)\n",
    "\n",
    "dataset = dict()\n",
    "dataset['train_pt'] = pt['train_askd']\n",
    "dataset['validation_pt'] = pt['validation_askd']\n",
    "dataset['test_pt'] = pt['test_askd']\n",
    "\n",
    "with open('data/askd_en_augmented.json') as f:\n",
    "    en = json.load(f)\n",
    "\n",
    "dataset['train_en'] = en['train_askd']\n",
    "dataset['validation_en'] = en['validation_askd']\n",
    "dataset['test_en'] = en['test_askd']\n",
    "\n",
    "with open('data/askd.json', 'w') as f:\n",
    "    json.dump(dataset, f)"
   ]
  },
  {
   "cell_type": "code",
   "execution_count": 21,
   "metadata": {},
   "outputs": [
    {
     "data": {
      "text/plain": [
       "dict_keys(['train_pt', 'validation_pt', 'test_pt', 'train_en', 'validation_en', 'test_en'])"
      ]
     },
     "execution_count": 21,
     "metadata": {},
     "output_type": "execute_result"
    }
   ],
   "source": [
    "dataset.keys()"
   ]
  },
  {
   "cell_type": "code",
   "execution_count": 15,
   "metadata": {},
   "outputs": [],
   "source": [
    "with open('data/askd.json', 'w') as f:\n",
    "    json.dump(dataset, f)"
   ]
  }
 ],
 "metadata": {
  "interpreter": {
   "hash": "e913b7897ac30ba1cf0615ffc95e0dcac655edcf15ece0252fa093eec079069f"
  },
  "kernelspec": {
   "display_name": "Python 3.10.4 64-bit",
   "language": "python",
   "name": "python3"
  },
  "language_info": {
   "codemirror_mode": {
    "name": "ipython",
    "version": 3
   },
   "file_extension": ".py",
   "mimetype": "text/x-python",
   "name": "python",
   "nbconvert_exporter": "python",
   "pygments_lexer": "ipython3",
   "version": "3.10.4"
  },
  "orig_nbformat": 4
 },
 "nbformat": 4,
 "nbformat_minor": 2
}
